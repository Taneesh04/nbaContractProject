{
 "cells": [
  {
   "cell_type": "code",
   "execution_count": null,
   "id": "ee3bb3a9",
   "metadata": {},
   "outputs": [],
   "source": [
    "pip install plotly\n",
    "pip install pandas\n",
    "pip install numpy \n",
    "\n",
    "import plotly.express as px\n",
    "import pandas as pd\n",
    "import numpy as np\n",
    "\n",
    "df = pd.read_csv(r\"C:\\Users\\TaneeshA\\OneDrive\\Desktop\\NBA Contact Value Project\\DataSets\\NBATest1.csv\")\n",
    "df.sort_values('overallExpected', ascending=False, inplace=True)\n",
    "\n",
    "fig = px.scatter(df, x='Player', y='overallExpected', color='playoffTm', hover_data=['Player'])\n",
    "\n",
    "fig.update_layout(title='NBA Players Overpaid vs Underpaid',\n",
    "                  xaxis_title='Player',\n",
    "                  yaxis_title='Difference Between Expected Salary and Salary')\n",
    "\n",
    "fig.update_xaxes(showticklabels=False)  \n",
    "fig.show()\n",
    "\n",
    "\n",
    "\n"
   ]
  },
  {
   "cell_type": "code",
   "execution_count": null,
   "id": "2d51a504",
   "metadata": {},
   "outputs": [],
   "source": []
  }
 ],
 "metadata": {
  "kernelspec": {
   "display_name": "Python 3 (ipykernel)",
   "language": "python",
   "name": "python3"
  },
  "language_info": {
   "codemirror_mode": {
    "name": "ipython",
    "version": 3
   },
   "file_extension": ".py",
   "mimetype": "text/x-python",
   "name": "python",
   "nbconvert_exporter": "python",
   "pygments_lexer": "ipython3",
   "version": "3.9.13"
  }
 },
 "nbformat": 4,
 "nbformat_minor": 5
}
